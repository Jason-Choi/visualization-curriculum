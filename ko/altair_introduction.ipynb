{
 "cells": [
  {
   "attachments": {},
   "cell_type": "markdown",
   "metadata": {
    "colab_type": "text",
    "id": "YueLLjO8YJLK"
   },
   "source": [
    "# Altair 소개\n",
    "\n",
    "[Altair](https://altair-viz.github.io/)는 Python에서 사용할 수 있는 선언형 통계 시각화 라이브러리입니다. Altair는 빠르게 다양한 통계적 시각화를 그릴 수 있는 강력하고 간결한 문법을 사용합니다. \n",
    "\n",
    "*선언형* 라이브러리란, *데이터*, *시각 기호 (Graphical Mark)*, *인코딩 채널 (Encoding Channel)* 등에 대해 *무엇을* 시각화 하고 싶은지에 대한 고수준 표현을 할 수 있다는 것을 의미합니다. 이는 다시 말하면, 반복문과 그리기 함수등을 통해 *어떻게* 시각화를 작성할 것인지 적지 않아도 데이터 필드 및 인코딩 채널 (예를 들어 x축, y축, 색깔 등) 간의 연결등을 선언할 수 있다는 것입니다. 나머지 시각화의 세부 사항은 자동으로 채워 집니다. 이런 선언형 시각화 아이디어를 바탕으로 간결한 문법을 사용하여 다양한 시각화를 쉽게 그릴 수 있습니다. "
   ]
  },
  {
   "cell_type": "code",
   "execution_count": null,
   "metadata": {},
   "outputs": [],
   "source": [
    "!pip install altair pandas vega-datasets"
   ]
  },
  {
   "attachments": {},
   "cell_type": "markdown",
   "metadata": {
    "colab_type": "text",
    "id": "Wy1RJr6YaIWG"
   },
   "source": [
    "## 라이러리 불러오기"
   ]
  },
  {
   "cell_type": "code",
   "execution_count": null,
   "metadata": {
    "colab": {},
    "colab_type": "code",
    "id": "zYMsJwmgJ4R7"
   },
   "outputs": [],
   "source": [
    "import pandas as pd\n",
    "import altair as alt\n",
    "from vega_datasets import data"
   ]
  },
  {
   "attachments": {},
   "cell_type": "markdown",
   "metadata": {
    "colab_type": "text",
    "id": "LBotwpgUaaXQ"
   },
   "source": [
    "## 데이터"
   ]
  },
  {
   "cell_type": "code",
   "execution_count": null,
   "metadata": {
    "colab": {
     "base_uri": "https://localhost:8080/",
     "height": 204
    },
    "colab_type": "code",
    "id": "M0Sp4rLibEZe",
    "outputId": "42a06146-8554-45fb-f2ac-1ec06a0b738d"
   },
   "outputs": [],
   "source": [
    "cars = data.cars()             \n",
    "cars.head() "
   ]
  },
  {
   "attachments": {},
   "cell_type": "markdown",
   "metadata": {
    "colab_type": "text",
    "id": "lTWpkCvO8sjI"
   },
   "source": [
    "### 날씨 데이터"
   ]
  },
  {
   "cell_type": "code",
   "execution_count": null,
   "metadata": {
    "colab": {
     "base_uri": "https://localhost:8080/",
     "height": 328
    },
    "colab_type": "code",
    "id": "Zad2hV5G72j2",
    "outputId": "27129375-c1a3-429a-e4a4-f8ed2c5e0263"
   },
   "outputs": [],
   "source": [
    "df = pd.DataFrame({\n",
    "    'city': ['Seattle', 'Seattle', 'Seattle', 'New York', 'New York', 'New York', 'Chicago', 'Chicago', 'Chicago'],\n",
    "    'month': ['Apr', 'Aug', 'Dec', 'Apr', 'Aug', 'Dec', 'Apr', 'Aug', 'Dec'],\n",
    "    'precip': [2.68, 0.87, 5.31, 3.94, 4.13, 3.58, 3.62, 3.98, 2.56]\n",
    "})\n",
    "\n",
    "df"
   ]
  },
  {
   "attachments": {},
   "cell_type": "markdown",
   "metadata": {
    "colab_type": "text",
    "id": "ac427IWdb7xx"
   },
   "source": [
    "## 차트 객체"
   ]
  },
  {
   "cell_type": "code",
   "execution_count": null,
   "metadata": {
    "colab": {},
    "colab_type": "code",
    "id": "QqF4GKjDcG4y"
   },
   "outputs": [],
   "source": [
    "chart = alt.Chart(df)"
   ]
  },
  {
   "attachments": {},
   "cell_type": "markdown",
   "metadata": {
    "colab_type": "text",
    "id": "_z0gVCb8cNgx"
   },
   "source": [
    "## 시각화 기호 (Mark)와 인코딩 (Encodings)"
   ]
  },
  {
   "cell_type": "code",
   "execution_count": null,
   "metadata": {
    "colab": {
     "base_uri": "https://localhost:8080/",
     "height": 52
    },
    "colab_type": "code",
    "id": "NmlAmwX4cXzE",
    "outputId": "960ad0d0-ed22-4ebb-eff6-c652068d5b1e"
   },
   "outputs": [],
   "source": [
    "alt.Chart(df).mark_point()"
   ]
  },
  {
   "attachments": {},
   "cell_type": "markdown",
   "metadata": {
    "colab_type": "text",
    "id": "wbHHAt-8czdt"
   },
   "source": [
    "데이터를 encoding할 위치로 `x`, `y`, `color`, `shape` 등 다양한 위치를 지정할 수 있습니다"
   ]
  },
  {
   "cell_type": "code",
   "execution_count": null,
   "metadata": {
    "colab": {
     "base_uri": "https://localhost:8080/",
     "height": 129
    },
    "colab_type": "code",
    "id": "vBCCcBMxnfHW",
    "outputId": "691ce8df-1978-4b2f-eeb0-7d79a7d77db3"
   },
   "outputs": [],
   "source": [
    "alt.Chart(df).mark_point().encode(\n",
    "    alt.X('precip'),\n",
    "    alt.Y('city')\n",
    ")"
   ]
  },
  {
   "attachments": {},
   "cell_type": "markdown",
   "metadata": {},
   "source": [
    "데이터의 종류를 명시적으로 지정할 수도 있습니다. (Q, N, O, T)"
   ]
  },
  {
   "cell_type": "code",
   "execution_count": null,
   "metadata": {},
   "outputs": [],
   "source": [
    "alt.Chart(df).mark_point().encode(\n",
    "    alt.X('precip:N'),\n",
    "    alt.Y('city:N')\n",
    ")"
   ]
  },
  {
   "attachments": {},
   "cell_type": "markdown",
   "metadata": {
    "colab_type": "text",
    "id": "RvSRRA64pY9_"
   },
   "source": [
    "## 데이터 변환: 집계 함수\n",
    "\n",
    "평균(`average`), 개수(`count`), 최소(`min`), 최대(`max`) 등 다양한 집계 함수를 사용하여 데이터를 변환할 수 있습니다. "
   ]
  },
  {
   "cell_type": "code",
   "execution_count": null,
   "metadata": {
    "colab": {
     "base_uri": "https://localhost:8080/",
     "height": 129
    },
    "colab_type": "code",
    "id": "trTABsxDpgKT",
    "outputId": "82847271-8dc6-4a2f-9496-de1d4ba4a58b"
   },
   "outputs": [],
   "source": [
    "alt.Chart(df).mark_point().encode(\n",
    "    x='average(precip)',\n",
    "    y='city'\n",
    ")"
   ]
  },
  {
   "attachments": {},
   "cell_type": "markdown",
   "metadata": {
    "colab_type": "text",
    "id": "_qt-r1YsqbjG"
   },
   "source": [
    "## 시각화 기호 바꿔보기"
   ]
  },
  {
   "cell_type": "code",
   "execution_count": null,
   "metadata": {
    "colab": {
     "base_uri": "https://localhost:8080/",
     "height": 129
    },
    "colab_type": "code",
    "id": "oPyDGea7p6XR",
    "outputId": "6e1c1a06-d0ad-4b82-c964-60b211b4f714"
   },
   "outputs": [],
   "source": [
    "alt.Chart(df).mark_bar().encode(\n",
    "    x='average(precip)',\n",
    "    y='city'\n",
    ")"
   ]
  },
  {
   "cell_type": "code",
   "execution_count": null,
   "metadata": {
    "colab": {
     "base_uri": "https://localhost:8080/",
     "height": 405
    },
    "colab_type": "code",
    "id": "h5CALzADqPIT",
    "outputId": "0d5d2a07-76d9-45a2-ea2f-a469730f802f"
   },
   "outputs": [],
   "source": [
    "alt.Chart(df).mark_bar().encode(\n",
    "    x='city',\n",
    "    y='average(precip)'\n",
    ")"
   ]
  },
  {
   "attachments": {},
   "cell_type": "markdown",
   "metadata": {
    "colab_type": "text",
    "id": "cvQINJf-rKpe"
   },
   "source": [
    "## 다중 뷰 시각화\n",
    "\n",
    "여러 시각화를 중첩하거나 병치하여 사용할 수 있습니다.\n",
    "\n",
    "중첩은 `+`, 수평 병치는 `|`, 수직 병치는 `&` 기호를 사용합니다."
   ]
  },
  {
   "cell_type": "code",
   "execution_count": null,
   "metadata": {
    "colab": {
     "base_uri": "https://localhost:8080/",
     "height": 372
    },
    "colab_type": "code",
    "id": "qkvOKweFrxsk",
    "outputId": "7016a081-72d8-4266-e39d-117f65b1ec10"
   },
   "outputs": [],
   "source": [
    "alt.Chart(cars).mark_line().encode(\n",
    "    alt.X('Year'),\n",
    "    alt.Y('average(Miles_per_Gallon)')\n",
    ")"
   ]
  },
  {
   "cell_type": "code",
   "execution_count": null,
   "metadata": {
    "colab": {
     "base_uri": "https://localhost:8080/",
     "height": 372
    },
    "colab_type": "code",
    "id": "X2-e1e6GsX4c",
    "outputId": "323fccb1-44f9-4d9c-802d-843fe170e44c"
   },
   "outputs": [],
   "source": [
    "line = alt.Chart(cars).mark_line().encode(\n",
    "    alt.X('Year'),\n",
    "    alt.Y('average(Miles_per_Gallon)')\n",
    ")\n",
    "\n",
    "point = alt.Chart(cars).mark_circle().encode(\n",
    "    alt.X('Year'),\n",
    "    alt.Y('average(Miles_per_Gallon)')\n",
    ")\n",
    "\n",
    "line + point"
   ]
  },
  {
   "cell_type": "code",
   "execution_count": null,
   "metadata": {
    "colab": {
     "base_uri": "https://localhost:8080/",
     "height": 372
    },
    "colab_type": "code",
    "id": "bWjk0W4JuPbn",
    "outputId": "7ad87e04-3c6e-49f4-ac1d-15443f4a17e0"
   },
   "outputs": [],
   "source": [
    "mpg = alt.Chart(cars).mark_line().encode(\n",
    "    alt.X('Year'),\n",
    "    alt.Y('average(Miles_per_Gallon)')\n",
    ")\n",
    "\n",
    "mpg + mpg.mark_circle()"
   ]
  },
  {
   "cell_type": "code",
   "execution_count": null,
   "metadata": {
    "colab": {
     "base_uri": "https://localhost:8080/",
     "height": 374
    },
    "colab_type": "code",
    "id": "dxxwxbwXtYFJ",
    "outputId": "67704231-d319-4869-8741-93ee6b8bf899"
   },
   "outputs": [],
   "source": [
    "hp = alt.Chart(cars).mark_line().encode(\n",
    "    alt.X('Year'),\n",
    "    alt.Y('average(Horsepower)')\n",
    ")\n",
    "\n",
    "(mpg + mpg.mark_circle()) | (hp + hp.mark_circle())"
   ]
  },
  {
   "attachments": {},
   "cell_type": "markdown",
   "metadata": {
    "colab_type": "text",
    "id": "59XrVmENvueI"
   },
   "source": [
    "## 상호작용"
   ]
  },
  {
   "cell_type": "code",
   "execution_count": null,
   "metadata": {
    "colab": {
     "base_uri": "https://localhost:8080/",
     "height": 372
    },
    "colab_type": "code",
    "id": "NPrkvLBOJ4SA",
    "outputId": "a5fa630d-1087-4950-b386-0f7b6f274686"
   },
   "outputs": [],
   "source": [
    "alt.Chart(cars).mark_point().encode(\n",
    "    x='Horsepower',\n",
    "    y='Miles_per_Gallon',\n",
    "    color='Origin',\n",
    ").interactive()"
   ]
  },
  {
   "cell_type": "code",
   "execution_count": null,
   "metadata": {
    "colab": {
     "base_uri": "https://localhost:8080/",
     "height": 372
    },
    "colab_type": "code",
    "id": "Mxtq1K7wwjLA",
    "outputId": "b4a70f94-3f4f-4d65-9901-dd0c97a8599d"
   },
   "outputs": [],
   "source": [
    "alt.Chart(cars).mark_point().encode(\n",
    "    x='Horsepower',\n",
    "    y='Miles_per_Gallon',\n",
    "    color='Origin',\n",
    "    tooltip=['Name', 'Origin']\n",
    ").interactive()"
   ]
  }
 ],
 "metadata": {
  "kernelspec": {
   "display_name": "Python 3",
   "language": "python",
   "name": "python3"
  },
  "language_info": {
   "codemirror_mode": {
    "name": "ipython",
    "version": 3
   },
   "file_extension": ".py",
   "mimetype": "text/x-python",
   "name": "python",
   "nbconvert_exporter": "python",
   "pygments_lexer": "ipython3",
   "version": "3.9.16"
  }
 },
 "nbformat": 4,
 "nbformat_minor": 4
}
